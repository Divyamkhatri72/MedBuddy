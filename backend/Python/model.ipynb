{
 "cells": [
  {
   "cell_type": "code",
   "execution_count": 2,
   "metadata": {},
   "outputs": [],
   "source": [
    "import pandas as pd\n",
    "import numpy as np\n",
    "import tensorflow as tf \n",
    "from sklearn.model_selection import train_test_split\n",
    "from sklearn.preprocessing import LabelEncoder, OneHotEncoder\n",
    "from keras import regularizers"
   ]
  },
  {
   "cell_type": "code",
   "execution_count": 3,
   "metadata": {},
   "outputs": [
    {
     "data": {
      "text/html": [
       "<div>\n",
       "<style scoped>\n",
       "    .dataframe tbody tr th:only-of-type {\n",
       "        vertical-align: middle;\n",
       "    }\n",
       "\n",
       "    .dataframe tbody tr th {\n",
       "        vertical-align: top;\n",
       "    }\n",
       "\n",
       "    .dataframe thead th {\n",
       "        text-align: right;\n",
       "    }\n",
       "</style>\n",
       "<table border=\"1\" class=\"dataframe\">\n",
       "  <thead>\n",
       "    <tr style=\"text-align: right;\">\n",
       "      <th></th>\n",
       "      <th>Hemophilia</th>\n",
       "      <th>Parents_With_Hemophilia</th>\n",
       "      <th>Grandparents_With_Hemophilia</th>\n",
       "      <th>GreatGrandparents_With_Hemophilia</th>\n",
       "      <th>Smoking</th>\n",
       "      <th>Alcohol</th>\n",
       "      <th>Exercise</th>\n",
       "      <th>Gender</th>\n",
       "    </tr>\n",
       "    <tr>\n",
       "      <th>ID</th>\n",
       "      <th></th>\n",
       "      <th></th>\n",
       "      <th></th>\n",
       "      <th></th>\n",
       "      <th></th>\n",
       "      <th></th>\n",
       "      <th></th>\n",
       "      <th></th>\n",
       "    </tr>\n",
       "  </thead>\n",
       "  <tbody>\n",
       "    <tr>\n",
       "      <th>1</th>\n",
       "      <td>Yes</td>\n",
       "      <td>1.0</td>\n",
       "      <td>2.0</td>\n",
       "      <td>0.0</td>\n",
       "      <td>No</td>\n",
       "      <td>Light</td>\n",
       "      <td>Heavy</td>\n",
       "      <td>Male</td>\n",
       "    </tr>\n",
       "    <tr>\n",
       "      <th>2</th>\n",
       "      <td>No</td>\n",
       "      <td>0.0</td>\n",
       "      <td>0.0</td>\n",
       "      <td>0.0</td>\n",
       "      <td>Heavy</td>\n",
       "      <td>Moderate</td>\n",
       "      <td>Light</td>\n",
       "      <td>Female</td>\n",
       "    </tr>\n",
       "    <tr>\n",
       "      <th>3</th>\n",
       "      <td>Yes</td>\n",
       "      <td>0.0</td>\n",
       "      <td>1.0</td>\n",
       "      <td>1.0</td>\n",
       "      <td>No</td>\n",
       "      <td>No</td>\n",
       "      <td>Moderate</td>\n",
       "      <td>Male</td>\n",
       "    </tr>\n",
       "    <tr>\n",
       "      <th>4</th>\n",
       "      <td>No</td>\n",
       "      <td>0.0</td>\n",
       "      <td>0.0</td>\n",
       "      <td>2.0</td>\n",
       "      <td>Light</td>\n",
       "      <td>Heavy</td>\n",
       "      <td>No</td>\n",
       "      <td>Female</td>\n",
       "    </tr>\n",
       "    <tr>\n",
       "      <th>5</th>\n",
       "      <td>Yes</td>\n",
       "      <td>2.0</td>\n",
       "      <td>0.0</td>\n",
       "      <td>0.0</td>\n",
       "      <td>Moderate</td>\n",
       "      <td>Light</td>\n",
       "      <td>Heavy</td>\n",
       "      <td>Male</td>\n",
       "    </tr>\n",
       "  </tbody>\n",
       "</table>\n",
       "</div>"
      ],
      "text/plain": [
       "   Hemophilia  Parents_With_Hemophilia  Grandparents_With_Hemophilia  \\\n",
       "ID                                                                     \n",
       "1         Yes                      1.0                           2.0   \n",
       "2          No                      0.0                           0.0   \n",
       "3         Yes                      0.0                           1.0   \n",
       "4          No                      0.0                           0.0   \n",
       "5         Yes                      2.0                           0.0   \n",
       "\n",
       "    GreatGrandparents_With_Hemophilia   Smoking   Alcohol  Exercise  Gender  \n",
       "ID                                                                           \n",
       "1                                 0.0        No     Light     Heavy    Male  \n",
       "2                                 0.0     Heavy  Moderate     Light  Female  \n",
       "3                                 1.0        No        No  Moderate    Male  \n",
       "4                                 2.0     Light     Heavy        No  Female  \n",
       "5                                 0.0  Moderate     Light     Heavy    Male  "
      ]
     },
     "execution_count": 3,
     "metadata": {},
     "output_type": "execute_result"
    }
   ],
   "source": [
    "df_t1d = pd.read_csv('t1diabetes.csv', index_col= 'ID')\n",
    "df_t2d = pd.read_csv('t2diabetes.csv', index_col= 'Index')\n",
    "df_park = pd.read_csv('parkison.csv',  index_col='Index')\n",
    "df_hemo = pd.read_csv('hemophillia.csv', index_col= 'ID')\n",
    "df_sickel = pd.read_csv('sickel.csv', index_col='Index')\n",
    "df_hemo.head()"
   ]
  },
  {
   "cell_type": "markdown",
   "metadata": {},
   "source": [
    "pre-processing"
   ]
  },
  {
   "cell_type": "code",
   "execution_count": 4,
   "metadata": {},
   "outputs": [
    {
     "data": {
      "text/html": [
       "<div>\n",
       "<style scoped>\n",
       "    .dataframe tbody tr th:only-of-type {\n",
       "        vertical-align: middle;\n",
       "    }\n",
       "\n",
       "    .dataframe tbody tr th {\n",
       "        vertical-align: top;\n",
       "    }\n",
       "\n",
       "    .dataframe thead th {\n",
       "        text-align: right;\n",
       "    }\n",
       "</style>\n",
       "<table border=\"1\" class=\"dataframe\">\n",
       "  <thead>\n",
       "    <tr style=\"text-align: right;\">\n",
       "      <th></th>\n",
       "      <th>Hemophilia</th>\n",
       "      <th>Parents_With_Hemophilia</th>\n",
       "      <th>Grandparents_With_Hemophilia</th>\n",
       "      <th>GreatGrandparents_With_Hemophilia</th>\n",
       "      <th>Smoking</th>\n",
       "      <th>Alcohol</th>\n",
       "      <th>Exercise</th>\n",
       "      <th>Gender</th>\n",
       "    </tr>\n",
       "    <tr>\n",
       "      <th>ID</th>\n",
       "      <th></th>\n",
       "      <th></th>\n",
       "      <th></th>\n",
       "      <th></th>\n",
       "      <th></th>\n",
       "      <th></th>\n",
       "      <th></th>\n",
       "      <th></th>\n",
       "    </tr>\n",
       "  </thead>\n",
       "  <tbody>\n",
       "    <tr>\n",
       "      <th>1</th>\n",
       "      <td>1</td>\n",
       "      <td>1</td>\n",
       "      <td>2</td>\n",
       "      <td>0</td>\n",
       "      <td>3</td>\n",
       "      <td>1</td>\n",
       "      <td>0</td>\n",
       "      <td>1</td>\n",
       "    </tr>\n",
       "    <tr>\n",
       "      <th>2</th>\n",
       "      <td>0</td>\n",
       "      <td>0</td>\n",
       "      <td>0</td>\n",
       "      <td>0</td>\n",
       "      <td>0</td>\n",
       "      <td>2</td>\n",
       "      <td>1</td>\n",
       "      <td>0</td>\n",
       "    </tr>\n",
       "    <tr>\n",
       "      <th>3</th>\n",
       "      <td>1</td>\n",
       "      <td>0</td>\n",
       "      <td>1</td>\n",
       "      <td>1</td>\n",
       "      <td>3</td>\n",
       "      <td>3</td>\n",
       "      <td>2</td>\n",
       "      <td>1</td>\n",
       "    </tr>\n",
       "    <tr>\n",
       "      <th>4</th>\n",
       "      <td>0</td>\n",
       "      <td>0</td>\n",
       "      <td>0</td>\n",
       "      <td>2</td>\n",
       "      <td>1</td>\n",
       "      <td>0</td>\n",
       "      <td>3</td>\n",
       "      <td>0</td>\n",
       "    </tr>\n",
       "    <tr>\n",
       "      <th>5</th>\n",
       "      <td>1</td>\n",
       "      <td>2</td>\n",
       "      <td>0</td>\n",
       "      <td>0</td>\n",
       "      <td>2</td>\n",
       "      <td>1</td>\n",
       "      <td>0</td>\n",
       "      <td>1</td>\n",
       "    </tr>\n",
       "  </tbody>\n",
       "</table>\n",
       "</div>"
      ],
      "text/plain": [
       "    Hemophilia  Parents_With_Hemophilia  Grandparents_With_Hemophilia  \\\n",
       "ID                                                                      \n",
       "1            1                        1                             2   \n",
       "2            0                        0                             0   \n",
       "3            1                        0                             1   \n",
       "4            0                        0                             0   \n",
       "5            1                        2                             0   \n",
       "\n",
       "    GreatGrandparents_With_Hemophilia  Smoking  Alcohol  Exercise  Gender  \n",
       "ID                                                                         \n",
       "1                                   0        3        1         0       1  \n",
       "2                                   0        0        2         1       0  \n",
       "3                                   1        3        3         2       1  \n",
       "4                                   2        1        0         3       0  \n",
       "5                                   0        2        1         0       1  "
      ]
     },
     "execution_count": 4,
     "metadata": {},
     "output_type": "execute_result"
    }
   ],
   "source": [
    "cat_data_t1d = ['Type 1 Diabetes','Parent 1 T1D', 'Parent 2 T1D', 'Smoking', 'Alcohol', 'Exercise']\n",
    "label_encoder = LabelEncoder()\n",
    "\n",
    "for col in cat_data_t1d:\n",
    "    \n",
    "    df_t1d[col] = label_encoder.fit_transform(df_t1d[col])\n",
    "\n",
    "cat_data_t2d = ['Type 2 Diabetes', 'Gender', 'Smoking', 'Alcohol', 'Exercise']\n",
    "\n",
    "for col in cat_data_t2d:\n",
    "    \n",
    "    df_t2d[col] = label_encoder.fit_transform(df_t2d[col])\n",
    "\n",
    "cat_data_park = [\"Parkinson's Disease\", \"Parents with Parkinson's\", \"Grandparents with Parkinson's\", \"Great Grandparents with Parkinson's\", \"Gender\", \"Smoking Status\", \"Alcohol Consumption\", \"Exercise Level\"]\n",
    "\n",
    "for col in cat_data_park:\n",
    "    \n",
    "    df_park[col] = label_encoder.fit_transform(df_park[col])\n",
    "\n",
    "cat_data_sickel = ['Sickle Cell Anemia', 'Parents with Disease','Grandparents with Disease', 'Great-Grandparents with Disease','Gender', 'Smoking', 'Alcohol', 'Exercise']\n",
    "\n",
    "for col in cat_data_sickel:\n",
    "    \n",
    "    df_sickel[col] = label_encoder.fit_transform(df_sickel[col])\n",
    "\n",
    "\n",
    "cat_data_hemo = ['Hemophilia', 'Parents_With_Hemophilia','Grandparents_With_Hemophilia','GreatGrandparents_With_Hemophilia','Smoking', 'Alcohol', 'Exercise', 'Gender']\n",
    "\n",
    "for col in cat_data_hemo:\n",
    "    \n",
    "    df_hemo[col] = label_encoder.fit_transform(df_hemo[col])\n",
    "\n",
    "df_hemo.head()\n"
   ]
  },
  {
   "cell_type": "code",
   "execution_count": 5,
   "metadata": {},
   "outputs": [
    {
     "name": "stderr",
     "output_type": "stream",
     "text": [
      "C:\\Users\\Divyam\\AppData\\Local\\Temp\\ipykernel_12520\\3309995235.py:1: FutureWarning: Setting an item of incompatible dtype is deprecated and will raise in a future error of pandas. Value 'Index\n",
      "0      1.0\n",
      "1      0.0\n",
      "2      1.0\n",
      "3      0.0\n",
      "4      1.0\n",
      "      ... \n",
      "495    1.0\n",
      "496    0.0\n",
      "497    1.0\n",
      "498    0.0\n",
      "499    1.0\n",
      "Name: Parkinson's Disease, Length: 502, dtype: float64' has dtype incompatible with int32, please explicitly cast to a compatible dtype first.\n",
      "  df_park.iloc[:, 0]/=2\n",
      "C:\\Users\\Divyam\\AppData\\Local\\Temp\\ipykernel_12520\\3309995235.py:2: FutureWarning: Setting an item of incompatible dtype is deprecated and will raise in a future error of pandas. Value 'Index\n",
      "1      1.0\n",
      "2      0.0\n",
      "3      1.0\n",
      "4      0.0\n",
      "5      1.0\n",
      "      ... \n",
      "496    0.0\n",
      "497    1.0\n",
      "498    0.0\n",
      "499    1.0\n",
      "500    0.0\n",
      "Name: Sickle Cell Anemia, Length: 502, dtype: float64' has dtype incompatible with int32, please explicitly cast to a compatible dtype first.\n",
      "  df_sickel.iloc[:, 0]/=2\n"
     ]
    }
   ],
   "source": [
    "df_park.iloc[:, 0]/=2\n",
    "df_sickel.iloc[:, 0]/=2"
   ]
  },
  {
   "cell_type": "code",
   "execution_count": 6,
   "metadata": {},
   "outputs": [],
   "source": [
    "X_t1d = df_t1d.iloc[:, 1:]\n",
    "y_t1d = df_t1d.iloc[:, 0]\n",
    "X_t1d_train, X_t1d_test, y_t1d_train, y_t1d_test = train_test_split(X_t1d, y_t1d, test_size=0.6, random_state=42)"
   ]
  },
  {
   "cell_type": "code",
   "execution_count": 7,
   "metadata": {},
   "outputs": [],
   "source": [
    "from sklearn.preprocessing import StandardScaler\n",
    "\n",
    "scaler = StandardScaler()\n",
    "X_t1d_train = scaler.fit_transform(X_t1d_train)\n",
    "X_t1d_test = scaler.transform(X_t1d_test)"
   ]
  },
  {
   "cell_type": "code",
   "execution_count": 8,
   "metadata": {},
   "outputs": [
    {
     "name": "stderr",
     "output_type": "stream",
     "text": [
      "c:\\Users\\Divyam\\AppData\\Local\\Programs\\Python\\Python312\\Lib\\site-packages\\keras\\src\\layers\\core\\dense.py:88: UserWarning: Do not pass an `input_shape`/`input_dim` argument to a layer. When using Sequential models, prefer using an `Input(shape)` object as the first layer in the model instead.\n",
      "  super().__init__(activity_regularizer=activity_regularizer, **kwargs)\n"
     ]
    },
    {
     "name": "stdout",
     "output_type": "stream",
     "text": [
      "Epoch 1/10\n",
      "\u001b[1m2/2\u001b[0m \u001b[32m━━━━━━━━━━━━━━━━━━━━\u001b[0m\u001b[37m\u001b[0m \u001b[1m1s\u001b[0m 163ms/step - accuracy: 0.4733 - loss: 2.2449 - val_accuracy: 0.7200 - val_loss: 1.5798\n",
      "Epoch 2/10\n",
      "\u001b[1m2/2\u001b[0m \u001b[32m━━━━━━━━━━━━━━━━━━━━\u001b[0m\u001b[37m\u001b[0m \u001b[1m0s\u001b[0m 30ms/step - accuracy: 0.5734 - loss: 1.8740 - val_accuracy: 0.8100 - val_loss: 1.5053\n",
      "Epoch 3/10\n",
      "\u001b[1m2/2\u001b[0m \u001b[32m━━━━━━━━━━━━━━━━━━━━\u001b[0m\u001b[37m\u001b[0m \u001b[1m0s\u001b[0m 29ms/step - accuracy: 0.6309 - loss: 1.8095 - val_accuracy: 0.8667 - val_loss: 1.4422\n",
      "Epoch 4/10\n",
      "\u001b[1m2/2\u001b[0m \u001b[32m━━━━━━━━━━━━━━━━━━━━\u001b[0m\u001b[37m\u001b[0m \u001b[1m0s\u001b[0m 35ms/step - accuracy: 0.6357 - loss: 1.8193 - val_accuracy: 0.9233 - val_loss: 1.3864\n",
      "Epoch 5/10\n",
      "\u001b[1m2/2\u001b[0m \u001b[32m━━━━━━━━━━━━━━━━━━━━\u001b[0m\u001b[37m\u001b[0m \u001b[1m0s\u001b[0m 31ms/step - accuracy: 0.5537 - loss: 1.8597 - val_accuracy: 0.9500 - val_loss: 1.3365\n",
      "Epoch 6/10\n",
      "\u001b[1m2/2\u001b[0m \u001b[32m━━━━━━━━━━━━━━━━━━━━\u001b[0m\u001b[37m\u001b[0m \u001b[1m0s\u001b[0m 31ms/step - accuracy: 0.5564 - loss: 1.8828 - val_accuracy: 0.9533 - val_loss: 1.2919\n",
      "Epoch 7/10\n",
      "\u001b[1m2/2\u001b[0m \u001b[32m━━━━━━━━━━━━━━━━━━━━\u001b[0m\u001b[37m\u001b[0m \u001b[1m0s\u001b[0m 32ms/step - accuracy: 0.6651 - loss: 1.6114 - val_accuracy: 0.9700 - val_loss: 1.2524\n",
      "Epoch 8/10\n",
      "\u001b[1m2/2\u001b[0m \u001b[32m━━━━━━━━━━━━━━━━━━━━\u001b[0m\u001b[37m\u001b[0m \u001b[1m0s\u001b[0m 31ms/step - accuracy: 0.5953 - loss: 1.7646 - val_accuracy: 0.9733 - val_loss: 1.2159\n",
      "Epoch 9/10\n",
      "\u001b[1m2/2\u001b[0m \u001b[32m━━━━━━━━━━━━━━━━━━━━\u001b[0m\u001b[37m\u001b[0m \u001b[1m0s\u001b[0m 30ms/step - accuracy: 0.6773 - loss: 1.6011 - val_accuracy: 0.9733 - val_loss: 1.1829\n",
      "Epoch 10/10\n",
      "\u001b[1m2/2\u001b[0m \u001b[32m━━━━━━━━━━━━━━━━━━━━\u001b[0m\u001b[37m\u001b[0m \u001b[1m0s\u001b[0m 30ms/step - accuracy: 0.6354 - loss: 1.6921 - val_accuracy: 0.9733 - val_loss: 1.1531\n",
      "\u001b[1m10/10\u001b[0m \u001b[32m━━━━━━━━━━━━━━━━━━━━\u001b[0m\u001b[37m\u001b[0m \u001b[1m0s\u001b[0m 4ms/step \n"
     ]
    }
   ],
   "source": [
    "model_t1d = tf.keras.Sequential([\n",
    "    tf.keras.layers.Dense(128, activation='tanh', input_shape=(X_t1d_train.shape[1],), kernel_regularizer=regularizers.l2(0.01)),\n",
    "    tf.keras.layers.Dropout(0.9),\n",
    "    tf.keras.layers.Dense(64, activation='tanh', kernel_regularizer=regularizers.l2(0.01)),\n",
    "    tf.keras.layers.Dropout(0.85),\n",
    "    tf.keras.layers.Dense(1, activation='sigmoid')\n",
    "])\n",
    "model_t1d.compile(optimizer='adam', loss='binary_crossentropy', metrics=['accuracy'])\n",
    "model_t1d.fit(X_t1d_train, y_t1d_train, epochs=10, batch_size=128, validation_data=(X_t1d_test, y_t1d_test))\n",
    "predictions = model_t1d.predict(X_t1d_test)\n"
   ]
  },
  {
   "cell_type": "markdown",
   "metadata": {},
   "source": [
    "predictions_t1d = model_t1d.predict(X_t1d_test)\n",
    "y_t1d_test_array = y_t1d_test.to_numpy()\n",
    "predictions_t2d = model_t2d.predict(X_t2d_test)\n",
    "y_t2d_test_array = y_t2d_test.to_numpy()\n",
    "for i in range(10):\n",
    "    print(f\"Probability of having Type 1 Diabetes, Type 2 Diabetes (Example {i+11}): {predictions_t1d[i+10][0]:.2f}, {predictions_t2d[i+10][0]:.2f}\")\n",
    "    print(y_t1d_test_array[i+10],y_t2d_test_array[i+10])"
   ]
  },
  {
   "cell_type": "code",
   "execution_count": null,
   "metadata": {},
   "outputs": [],
   "source": []
  },
  {
   "cell_type": "markdown",
   "metadata": {},
   "source": [
    "Type 2 diabetes"
   ]
  },
  {
   "cell_type": "code",
   "execution_count": 9,
   "metadata": {},
   "outputs": [
    {
     "name": "stdout",
     "output_type": "stream",
     "text": [
      "Epoch 1/10\n"
     ]
    },
    {
     "name": "stderr",
     "output_type": "stream",
     "text": [
      "c:\\Users\\Divyam\\AppData\\Local\\Programs\\Python\\Python312\\Lib\\site-packages\\keras\\src\\layers\\core\\dense.py:88: UserWarning: Do not pass an `input_shape`/`input_dim` argument to a layer. When using Sequential models, prefer using an `Input(shape)` object as the first layer in the model instead.\n",
      "  super().__init__(activity_regularizer=activity_regularizer, **kwargs)\n"
     ]
    },
    {
     "name": "stdout",
     "output_type": "stream",
     "text": [
      "\u001b[1m2/2\u001b[0m \u001b[32m━━━━━━━━━━━━━━━━━━━━\u001b[0m\u001b[37m\u001b[0m \u001b[1m1s\u001b[0m 170ms/step - accuracy: 0.4781 - loss: 2.2754 - val_accuracy: 0.5233 - val_loss: 1.6260\n",
      "Epoch 2/10\n",
      "\u001b[1m2/2\u001b[0m \u001b[32m━━━━━━━━━━━━━━━━━━━━\u001b[0m\u001b[37m\u001b[0m \u001b[1m0s\u001b[0m 29ms/step - accuracy: 0.5067 - loss: 2.0096 - val_accuracy: 0.8267 - val_loss: 1.5564\n",
      "Epoch 3/10\n",
      "\u001b[1m2/2\u001b[0m \u001b[32m━━━━━━━━━━━━━━━━━━━━\u001b[0m\u001b[37m\u001b[0m \u001b[1m0s\u001b[0m 28ms/step - accuracy: 0.5834 - loss: 2.0219 - val_accuracy: 0.8333 - val_loss: 1.4951\n",
      "Epoch 4/10\n",
      "\u001b[1m2/2\u001b[0m \u001b[32m━━━━━━━━━━━━━━━━━━━━\u001b[0m\u001b[37m\u001b[0m \u001b[1m0s\u001b[0m 36ms/step - accuracy: 0.5831 - loss: 1.9560 - val_accuracy: 0.8400 - val_loss: 1.4397\n",
      "Epoch 5/10\n",
      "\u001b[1m2/2\u001b[0m \u001b[32m━━━━━━━━━━━━━━━━━━━━\u001b[0m\u001b[37m\u001b[0m \u001b[1m0s\u001b[0m 28ms/step - accuracy: 0.5675 - loss: 1.8340 - val_accuracy: 0.9200 - val_loss: 1.3897\n",
      "Epoch 6/10\n",
      "\u001b[1m2/2\u001b[0m \u001b[32m━━━━━━━━━━━━━━━━━━━━\u001b[0m\u001b[37m\u001b[0m \u001b[1m0s\u001b[0m 30ms/step - accuracy: 0.5316 - loss: 2.0908 - val_accuracy: 0.9267 - val_loss: 1.3444\n",
      "Epoch 7/10\n",
      "\u001b[1m2/2\u001b[0m \u001b[32m━━━━━━━━━━━━━━━━━━━━\u001b[0m\u001b[37m\u001b[0m \u001b[1m0s\u001b[0m 30ms/step - accuracy: 0.5189 - loss: 1.9630 - val_accuracy: 0.9267 - val_loss: 1.3030\n",
      "Epoch 8/10\n",
      "\u001b[1m2/2\u001b[0m \u001b[32m━━━━━━━━━━━━━━━━━━━━\u001b[0m\u001b[37m\u001b[0m \u001b[1m0s\u001b[0m 27ms/step - accuracy: 0.6321 - loss: 1.8284 - val_accuracy: 0.9267 - val_loss: 1.2656\n",
      "Epoch 9/10\n",
      "\u001b[1m2/2\u001b[0m \u001b[32m━━━━━━━━━━━━━━━━━━━━\u001b[0m\u001b[37m\u001b[0m \u001b[1m0s\u001b[0m 27ms/step - accuracy: 0.6231 - loss: 1.8075 - val_accuracy: 0.9267 - val_loss: 1.2313\n",
      "Epoch 10/10\n",
      "\u001b[1m2/2\u001b[0m \u001b[32m━━━━━━━━━━━━━━━━━━━━\u001b[0m\u001b[37m\u001b[0m \u001b[1m0s\u001b[0m 28ms/step - accuracy: 0.6183 - loss: 1.7833 - val_accuracy: 0.9267 - val_loss: 1.1995\n",
      "\u001b[1m10/10\u001b[0m \u001b[32m━━━━━━━━━━━━━━━━━━━━\u001b[0m\u001b[37m\u001b[0m \u001b[1m0s\u001b[0m 3ms/step \n"
     ]
    }
   ],
   "source": [
    "X_t2d = df_t2d.iloc[:, 1:]\n",
    "y_t2d = df_t2d.iloc[:, 0]\n",
    "X_t2d_train, X_t2d_test, y_t2d_train, y_t2d_test = train_test_split(X_t2d, y_t2d, test_size=0.6, random_state=42)\n",
    "\n",
    "X_t2d_train = scaler.fit_transform(X_t2d_train)\n",
    "X_t2d_test = scaler.transform(X_t2d_test)\n",
    "\n",
    "model_t2d = tf.keras.Sequential([\n",
    "    tf.keras.layers.Dense(128, activation='tanh', input_shape=(X_t2d_train.shape[1],), kernel_regularizer=regularizers.l2(0.01)),\n",
    "    tf.keras.layers.Dropout(0.9),\n",
    "    tf.keras.layers.Dense(64, activation='tanh', kernel_regularizer=regularizers.l2(0.01)),\n",
    "    tf.keras.layers.Dropout(0.85),\n",
    "    tf.keras.layers.Dense(1, activation='sigmoid')\n",
    "])\n",
    "model_t2d.compile(optimizer='adam', loss='binary_crossentropy', metrics=['accuracy'])\n",
    "model_t2d.fit(X_t2d_train, y_t2d_train, epochs=10, batch_size=128, validation_data=(X_t2d_test, y_t2d_test))\n",
    "predictions_t2d = model_t2d.predict(X_t2d_test)\n",
    "\n"
   ]
  },
  {
   "cell_type": "markdown",
   "metadata": {},
   "source": [
    "HEMOPHILLIA"
   ]
  },
  {
   "cell_type": "code",
   "execution_count": 10,
   "metadata": {},
   "outputs": [
    {
     "name": "stdout",
     "output_type": "stream",
     "text": [
      "Epoch 1/10\n"
     ]
    },
    {
     "name": "stderr",
     "output_type": "stream",
     "text": [
      "c:\\Users\\Divyam\\AppData\\Local\\Programs\\Python\\Python312\\Lib\\site-packages\\keras\\src\\layers\\core\\dense.py:88: UserWarning: Do not pass an `input_shape`/`input_dim` argument to a layer. When using Sequential models, prefer using an `Input(shape)` object as the first layer in the model instead.\n",
      "  super().__init__(activity_regularizer=activity_regularizer, **kwargs)\n"
     ]
    },
    {
     "name": "stdout",
     "output_type": "stream",
     "text": [
      "\u001b[1m2/2\u001b[0m \u001b[32m━━━━━━━━━━━━━━━━━━━━\u001b[0m\u001b[37m\u001b[0m \u001b[1m1s\u001b[0m 149ms/step - accuracy: 0.6501 - loss: 10.1122 - val_accuracy: 0.9922 - val_loss: 9.4998\n",
      "Epoch 2/10\n",
      "\u001b[1m2/2\u001b[0m \u001b[32m━━━━━━━━━━━━━━━━━━━━\u001b[0m\u001b[37m\u001b[0m \u001b[1m0s\u001b[0m 28ms/step - accuracy: 0.5953 - loss: 9.8996 - val_accuracy: 0.9922 - val_loss: 9.2038\n",
      "Epoch 3/10\n",
      "\u001b[1m2/2\u001b[0m \u001b[32m━━━━━━━━━━━━━━━━━━━━\u001b[0m\u001b[37m\u001b[0m \u001b[1m0s\u001b[0m 29ms/step - accuracy: 0.6149 - loss: 9.6200 - val_accuracy: 0.9922 - val_loss: 8.9196\n",
      "Epoch 4/10\n",
      "\u001b[1m2/2\u001b[0m \u001b[32m━━━━━━━━━━━━━━━━━━━━\u001b[0m\u001b[37m\u001b[0m \u001b[1m0s\u001b[0m 29ms/step - accuracy: 0.5979 - loss: 9.3648 - val_accuracy: 0.9922 - val_loss: 8.6459\n",
      "Epoch 5/10\n",
      "\u001b[1m2/2\u001b[0m \u001b[32m━━━━━━━━━━━━━━━━━━━━\u001b[0m\u001b[37m\u001b[0m \u001b[1m0s\u001b[0m 27ms/step - accuracy: 0.6893 - loss: 8.9658 - val_accuracy: 0.9922 - val_loss: 8.3821\n",
      "Epoch 6/10\n",
      "\u001b[1m2/2\u001b[0m \u001b[32m━━━━━━━━━━━━━━━━━━━━\u001b[0m\u001b[37m\u001b[0m \u001b[1m0s\u001b[0m 31ms/step - accuracy: 0.7023 - loss: 8.6977 - val_accuracy: 0.9922 - val_loss: 8.1265\n",
      "Epoch 7/10\n",
      "\u001b[1m2/2\u001b[0m \u001b[32m━━━━━━━━━━━━━━━━━━━━\u001b[0m\u001b[37m\u001b[0m \u001b[1m0s\u001b[0m 29ms/step - accuracy: 0.6671 - loss: 8.4633 - val_accuracy: 0.9922 - val_loss: 7.8786\n",
      "Epoch 8/10\n",
      "\u001b[1m2/2\u001b[0m \u001b[32m━━━━━━━━━━━━━━━━━━━━\u001b[0m\u001b[37m\u001b[0m \u001b[1m0s\u001b[0m 27ms/step - accuracy: 0.6945 - loss: 8.2150 - val_accuracy: 0.9922 - val_loss: 7.6376\n",
      "Epoch 9/10\n",
      "\u001b[1m2/2\u001b[0m \u001b[32m━━━━━━━━━━━━━━━━━━━━\u001b[0m\u001b[37m\u001b[0m \u001b[1m0s\u001b[0m 26ms/step - accuracy: 0.7089 - loss: 7.9547 - val_accuracy: 0.9922 - val_loss: 7.4028\n",
      "Epoch 10/10\n",
      "\u001b[1m2/2\u001b[0m \u001b[32m━━━━━━━━━━━━━━━━━━━━\u001b[0m\u001b[37m\u001b[0m \u001b[1m0s\u001b[0m 37ms/step - accuracy: 0.7611 - loss: 7.7011 - val_accuracy: 0.9922 - val_loss: 7.1743\n",
      "\u001b[1m8/8\u001b[0m \u001b[32m━━━━━━━━━━━━━━━━━━━━\u001b[0m\u001b[37m\u001b[0m \u001b[1m0s\u001b[0m 1ms/step \n"
     ]
    }
   ],
   "source": [
    "X_hemo = df_hemo.iloc[:, 1:]\n",
    "y_hemo = df_hemo.iloc[:, 0]\n",
    "X_hemo_train, X_hemo_test, y_hemo_train, y_hemo_test = train_test_split(X_hemo, y_hemo, test_size=0.6, random_state=42)\n",
    "\n",
    "X_hemo_train = scaler.fit_transform(X_hemo_train)\n",
    "X_hemo_test = scaler.transform(X_hemo_test)\n",
    "\n",
    "model_hemo = tf.keras.Sequential([\n",
    "    tf.keras.layers.Dense(128, activation='tanh', input_shape=(X_hemo_train.shape[1],), kernel_regularizer=regularizers.l2(0.01)),\n",
    "    tf.keras.layers.Dropout(0.8),\n",
    "    tf.keras.layers.Dense(64, activation='tanh', kernel_regularizer=regularizers.l2(0.11)),\n",
    "    tf.keras.layers.Dropout(0.85),\n",
    "    tf.keras.layers.Dense(1, activation='sigmoid')\n",
    "])\n",
    "model_hemo.compile(optimizer='adam', loss='binary_crossentropy', metrics=['accuracy'])\n",
    "model_hemo.fit(X_hemo_train, y_hemo_train, epochs=10, batch_size=128, validation_data=(X_hemo_test, y_hemo_test))\n",
    "predictions_hemo = model_hemo.predict(X_hemo_test)\n",
    "\n"
   ]
  },
  {
   "cell_type": "markdown",
   "metadata": {},
   "source": [
    "PARKISON"
   ]
  },
  {
   "cell_type": "code",
   "execution_count": 11,
   "metadata": {},
   "outputs": [
    {
     "name": "stdout",
     "output_type": "stream",
     "text": [
      "Epoch 1/10\n"
     ]
    },
    {
     "name": "stderr",
     "output_type": "stream",
     "text": [
      "c:\\Users\\Divyam\\AppData\\Local\\Programs\\Python\\Python312\\Lib\\site-packages\\keras\\src\\layers\\core\\dense.py:88: UserWarning: Do not pass an `input_shape`/`input_dim` argument to a layer. When using Sequential models, prefer using an `Input(shape)` object as the first layer in the model instead.\n",
      "  super().__init__(activity_regularizer=activity_regularizer, **kwargs)\n"
     ]
    },
    {
     "name": "stdout",
     "output_type": "stream",
     "text": [
      "\u001b[1m2/2\u001b[0m \u001b[32m━━━━━━━━━━━━━━━━━━━━\u001b[0m\u001b[37m\u001b[0m \u001b[1m1s\u001b[0m 157ms/step - accuracy: 0.4877 - loss: 2.1593 - val_accuracy: 0.5695 - val_loss: 1.6281\n",
      "Epoch 2/10\n",
      "\u001b[1m2/2\u001b[0m \u001b[32m━━━━━━━━━━━━━━━━━━━━\u001b[0m\u001b[37m\u001b[0m \u001b[1m0s\u001b[0m 31ms/step - accuracy: 0.4855 - loss: 2.1412 - val_accuracy: 0.6887 - val_loss: 1.5524\n",
      "Epoch 3/10\n",
      "\u001b[1m2/2\u001b[0m \u001b[32m━━━━━━━━━━━━━━━━━━━━\u001b[0m\u001b[37m\u001b[0m \u001b[1m0s\u001b[0m 28ms/step - accuracy: 0.5616 - loss: 1.9476 - val_accuracy: 0.7616 - val_loss: 1.4844\n",
      "Epoch 4/10\n",
      "\u001b[1m2/2\u001b[0m \u001b[32m━━━━━━━━━━━━━━━━━━━━\u001b[0m\u001b[37m\u001b[0m \u001b[1m0s\u001b[0m 29ms/step - accuracy: 0.6391 - loss: 1.8008 - val_accuracy: 0.8377 - val_loss: 1.4230\n",
      "Epoch 5/10\n",
      "\u001b[1m2/2\u001b[0m \u001b[32m━━━━━━━━━━━━━━━━━━━━\u001b[0m\u001b[37m\u001b[0m \u001b[1m0s\u001b[0m 30ms/step - accuracy: 0.5697 - loss: 1.9216 - val_accuracy: 0.9040 - val_loss: 1.3674\n",
      "Epoch 6/10\n",
      "\u001b[1m2/2\u001b[0m \u001b[32m━━━━━━━━━━━━━━━━━━━━\u001b[0m\u001b[37m\u001b[0m \u001b[1m0s\u001b[0m 33ms/step - accuracy: 0.6165 - loss: 1.8290 - val_accuracy: 0.9437 - val_loss: 1.3179\n",
      "Epoch 7/10\n",
      "\u001b[1m2/2\u001b[0m \u001b[32m━━━━━━━━━━━━━━━━━━━━\u001b[0m\u001b[37m\u001b[0m \u001b[1m0s\u001b[0m 29ms/step - accuracy: 0.5649 - loss: 1.9622 - val_accuracy: 0.9603 - val_loss: 1.2724\n",
      "Epoch 8/10\n",
      "\u001b[1m2/2\u001b[0m \u001b[32m━━━━━━━━━━━━━━━━━━━━\u001b[0m\u001b[37m\u001b[0m \u001b[1m0s\u001b[0m 29ms/step - accuracy: 0.6283 - loss: 1.7106 - val_accuracy: 0.9768 - val_loss: 1.2313\n",
      "Epoch 9/10\n",
      "\u001b[1m2/2\u001b[0m \u001b[32m━━━━━━━━━━━━━━━━━━━━\u001b[0m\u001b[37m\u001b[0m \u001b[1m0s\u001b[0m 31ms/step - accuracy: 0.6391 - loss: 1.6272 - val_accuracy: 0.9768 - val_loss: 1.1943\n",
      "Epoch 10/10\n",
      "\u001b[1m2/2\u001b[0m \u001b[32m━━━━━━━━━━━━━━━━━━━━\u001b[0m\u001b[37m\u001b[0m \u001b[1m0s\u001b[0m 28ms/step - accuracy: 0.6543 - loss: 1.6432 - val_accuracy: 0.9768 - val_loss: 1.1608\n",
      "\u001b[1m10/10\u001b[0m \u001b[32m━━━━━━━━━━━━━━━━━━━━\u001b[0m\u001b[37m\u001b[0m \u001b[1m0s\u001b[0m 3ms/step \n"
     ]
    }
   ],
   "source": [
    "X_park = df_park.iloc[:, 1:]\n",
    "y_park = df_park.iloc[:, 0]\n",
    "X_park_train, X_park_test, y_park_train, y_park_test = train_test_split(X_park, y_park, test_size=0.6, random_state=42)\n",
    "\n",
    "X_park_train = scaler.fit_transform(X_park_train)\n",
    "X_park_test = scaler.transform(X_park_test)\n",
    "\n",
    "model_park = tf.keras.Sequential([\n",
    "    tf.keras.layers.Dense(128, activation='tanh', input_shape=(X_park_train.shape[1],), kernel_regularizer=regularizers.l2(0.01)),\n",
    "    tf.keras.layers.Dropout(0.9),\n",
    "    tf.keras.layers.Dense(64, activation='tanh', kernel_regularizer=regularizers.l2(0.01)),\n",
    "    tf.keras.layers.Dropout(0.85),\n",
    "    tf.keras.layers.Dense(1, activation='sigmoid')\n",
    "])\n",
    "model_park.compile(optimizer='adam', loss='binary_crossentropy', metrics=['accuracy'])\n",
    "model_park.fit(X_park_train, y_park_train, epochs=10, batch_size=128, validation_data=(X_park_test, y_park_test))\n",
    "predictions_park = model_park.predict(X_park_test)\n",
    "\n"
   ]
  },
  {
   "cell_type": "markdown",
   "metadata": {},
   "source": [
    "SICKEL "
   ]
  },
  {
   "cell_type": "code",
   "execution_count": 12,
   "metadata": {},
   "outputs": [
    {
     "name": "stdout",
     "output_type": "stream",
     "text": [
      "Epoch 1/10\n"
     ]
    },
    {
     "name": "stderr",
     "output_type": "stream",
     "text": [
      "c:\\Users\\Divyam\\AppData\\Local\\Programs\\Python\\Python312\\Lib\\site-packages\\keras\\src\\layers\\core\\dense.py:88: UserWarning: Do not pass an `input_shape`/`input_dim` argument to a layer. When using Sequential models, prefer using an `Input(shape)` object as the first layer in the model instead.\n",
      "  super().__init__(activity_regularizer=activity_regularizer, **kwargs)\n"
     ]
    },
    {
     "name": "stdout",
     "output_type": "stream",
     "text": [
      "\u001b[1m2/2\u001b[0m \u001b[32m━━━━━━━━━━━━━━━━━━━━\u001b[0m\u001b[37m\u001b[0m \u001b[1m1s\u001b[0m 172ms/step - accuracy: 0.5290 - loss: 1.9716 - val_accuracy: 0.7781 - val_loss: 1.5766\n",
      "Epoch 2/10\n",
      "\u001b[1m2/2\u001b[0m \u001b[32m━━━━━━━━━━━━━━━━━━━━\u001b[0m\u001b[37m\u001b[0m \u001b[1m0s\u001b[0m 30ms/step - accuracy: 0.4644 - loss: 1.9649 - val_accuracy: 0.8212 - val_loss: 1.5290\n",
      "Epoch 3/10\n",
      "\u001b[1m2/2\u001b[0m \u001b[32m━━━━━━━━━━━━━━━━━━━━\u001b[0m\u001b[37m\u001b[0m \u001b[1m0s\u001b[0m 33ms/step - accuracy: 0.5957 - loss: 1.7221 - val_accuracy: 0.8477 - val_loss: 1.4907\n",
      "Epoch 4/10\n",
      "\u001b[1m2/2\u001b[0m \u001b[32m━━━━━━━━━━━━━━━━━━━━\u001b[0m\u001b[37m\u001b[0m \u001b[1m0s\u001b[0m 33ms/step - accuracy: 0.6910 - loss: 1.6155 - val_accuracy: 0.8543 - val_loss: 1.4582\n",
      "Epoch 5/10\n",
      "\u001b[1m2/2\u001b[0m \u001b[32m━━━━━━━━━━━━━━━━━━━━\u001b[0m\u001b[37m\u001b[0m \u001b[1m0s\u001b[0m 34ms/step - accuracy: 0.6925 - loss: 1.5081 - val_accuracy: 0.8609 - val_loss: 1.4310\n",
      "Epoch 6/10\n",
      "\u001b[1m2/2\u001b[0m \u001b[32m━━━━━━━━━━━━━━━━━━━━\u001b[0m\u001b[37m\u001b[0m \u001b[1m0s\u001b[0m 41ms/step - accuracy: 0.7459 - loss: 1.4300 - val_accuracy: 0.8609 - val_loss: 1.4095\n",
      "Epoch 7/10\n",
      "\u001b[1m2/2\u001b[0m \u001b[32m━━━━━━━━━━━━━━━━━━━━\u001b[0m\u001b[37m\u001b[0m \u001b[1m0s\u001b[0m 50ms/step - accuracy: 0.7415 - loss: 1.3739 - val_accuracy: 0.7815 - val_loss: 1.3910\n",
      "Epoch 8/10\n",
      "\u001b[1m2/2\u001b[0m \u001b[32m━━━━━━━━━━━━━━━━━━━━\u001b[0m\u001b[37m\u001b[0m \u001b[1m0s\u001b[0m 31ms/step - accuracy: 0.8486 - loss: 1.2312 - val_accuracy: 0.7781 - val_loss: 1.3750\n",
      "Epoch 9/10\n",
      "\u001b[1m2/2\u001b[0m \u001b[32m━━━━━━━━━━━━━━━━━━━━\u001b[0m\u001b[37m\u001b[0m \u001b[1m0s\u001b[0m 32ms/step - accuracy: 0.8049 - loss: 1.2947 - val_accuracy: 0.7781 - val_loss: 1.3612\n",
      "Epoch 10/10\n",
      "\u001b[1m2/2\u001b[0m \u001b[32m━━━━━━━━━━━━━━━━━━━━\u001b[0m\u001b[37m\u001b[0m \u001b[1m0s\u001b[0m 34ms/step - accuracy: 0.8546 - loss: 1.1986 - val_accuracy: 0.7781 - val_loss: 1.3490\n",
      "\u001b[1m10/10\u001b[0m \u001b[32m━━━━━━━━━━━━━━━━━━━━\u001b[0m\u001b[37m\u001b[0m \u001b[1m0s\u001b[0m 4ms/step \n"
     ]
    }
   ],
   "source": [
    "X_sickel = df_sickel.iloc[:, 1:]\n",
    "y_sickel = df_sickel.iloc[:, 0]\n",
    "X_sickel_train, X_sickel_test, y_sickel_train, y_sickel_test = train_test_split(X_sickel, y_sickel, test_size=0.6, random_state=42)\n",
    "\n",
    "X_sickel_train = scaler.fit_transform(X_sickel_train)\n",
    "X_sickel_test = scaler.transform(X_sickel_test)\n",
    "\n",
    "model_sickel = tf.keras.Sequential([\n",
    "    tf.keras.layers.Dense(128, activation='tanh', input_shape=(X_sickel_train.shape[1],), kernel_regularizer=regularizers.l2(0.01)),\n",
    "    tf.keras.layers.Dropout(0.8),\n",
    "    tf.keras.layers.Dense(64, activation='tanh', kernel_regularizer=regularizers.l2(0.01)),\n",
    "    tf.keras.layers.Dropout(0.85),\n",
    "    tf.keras.layers.Dense(1, activation='sigmoid')\n",
    "])\n",
    "model_sickel.compile(optimizer='adam', loss='binary_crossentropy', metrics=['accuracy'])\n",
    "model_sickel.fit(X_sickel_train, y_sickel_train, epochs=10, batch_size=128, validation_data=(X_park_test, y_park_test))\n",
    "predictions_sickel = model_sickel.predict(X_park_test)\n",
    "\n"
   ]
  },
  {
   "cell_type": "code",
   "execution_count": 14,
   "metadata": {},
   "outputs": [
    {
     "name": "stdout",
     "output_type": "stream",
     "text": [
      "\u001b[1m10/10\u001b[0m \u001b[32m━━━━━━━━━━━━━━━━━━━━\u001b[0m\u001b[37m\u001b[0m \u001b[1m0s\u001b[0m 758us/step\n",
      "\u001b[1m10/10\u001b[0m \u001b[32m━━━━━━━━━━━━━━━━━━━━\u001b[0m\u001b[37m\u001b[0m \u001b[1m0s\u001b[0m 563us/step\n",
      "\u001b[1m8/8\u001b[0m \u001b[32m━━━━━━━━━━━━━━━━━━━━\u001b[0m\u001b[37m\u001b[0m \u001b[1m0s\u001b[0m 716us/step\n",
      "\u001b[1m10/10\u001b[0m \u001b[32m━━━━━━━━━━━━━━━━━━━━\u001b[0m\u001b[37m\u001b[0m \u001b[1m0s\u001b[0m 614us/step\n",
      "\u001b[1m10/10\u001b[0m \u001b[32m━━━━━━━━━━━━━━━━━━━━\u001b[0m\u001b[37m\u001b[0m \u001b[1m0s\u001b[0m 688us/step\n",
      "Probability of having Type 1 Diabetes, Type 2 Diabetes (Example 11): 0.11, 0.31, 0.83, 0.04, 0.25\n",
      "Actual result: 0.00,0.00, 1.00, 0.00, 0.00\n",
      "Probability of having Type 1 Diabetes, Type 2 Diabetes (Example 12): 0.27, 0.79, 0.21, 0.05, 0.54\n",
      "Actual result: 0.00,1.00, 0.00, 0.00, 0.00\n",
      "Probability of having Type 1 Diabetes, Type 2 Diabetes (Example 13): 0.16, 0.72, 0.78, 0.94, 0.67\n",
      "Actual result: 0.00,1.00, 1.00, 0.00, 1.00\n",
      "Probability of having Type 1 Diabetes, Type 2 Diabetes (Example 14): 0.17, 0.62, 0.09, 0.95, 0.67\n",
      "Actual result: 0.00,1.00, 0.00, 1.00, 1.00\n",
      "Probability of having Type 1 Diabetes, Type 2 Diabetes (Example 15): 0.71, 0.31, 0.86, 0.03, 0.85\n",
      "Actual result: 1.00,0.00, 1.00, 1.00, 0.00\n",
      "Probability of having Type 1 Diabetes, Type 2 Diabetes (Example 16): 0.10, 0.83, 0.90, 0.96, 0.14\n",
      "Actual result: 0.00,1.00, 1.00, 0.00, 1.00\n",
      "Probability of having Type 1 Diabetes, Type 2 Diabetes (Example 17): 0.75, 0.17, 0.07, 0.05, 0.79\n",
      "Actual result: 1.00,0.00, 0.00, 1.00, 0.00\n",
      "Probability of having Type 1 Diabetes, Type 2 Diabetes (Example 18): 0.14, 0.55, 0.07, 0.92, 0.73\n",
      "Actual result: 0.00,1.00, 0.00, 1.00, 1.00\n",
      "Probability of having Type 1 Diabetes, Type 2 Diabetes (Example 19): 0.13, 0.83, 0.09, 0.05, 0.79\n",
      "Actual result: 0.00,1.00, 0.00, 1.00, 0.00\n",
      "Probability of having Type 1 Diabetes, Type 2 Diabetes (Example 20): 0.13, 0.62, 0.77, 0.05, 0.48\n",
      "Actual result: 0.00,1.00, 1.00, 1.00, 0.00\n"
     ]
    }
   ],
   "source": [
    "predictions_t1d = model_t1d.predict(X_t1d_test)\n",
    "y_t1d_test_array = y_t1d_test.to_numpy()\n",
    "\n",
    "predictions_t2d = model_t2d.predict(X_t2d_test)\n",
    "y_t2d_test_array = y_t2d_test.to_numpy()\n",
    "\n",
    "predictions_hemo = model_hemo.predict(X_hemo_test)\n",
    "y_hemo_test_array = y_hemo_test.to_numpy()\n",
    "\n",
    "predictions_park = model_park.predict(X_park_test)\n",
    "y_park_test_array = y_park_test.to_numpy()\n",
    "\n",
    "predictions_park = model_sickel.predict(X_sickel_test)\n",
    "y_sickel_test_array = y_sickel_test.to_numpy()\n",
    "\n",
    "for i in range(10):\n",
    "    print(f\"Probability of having Type 1 Diabetes, Type 2 Diabetes (Example {i+11}): {predictions_t1d[i+10][0]:.2f}, {predictions_t2d[i+10][0]:.2f}, {predictions_hemo[i+10][0]:.2f}, {predictions_park[i+10][0]:.2f}, {predictions_sickel[i+10][0]:.2f}\")\n",
    "    print(f'Actual result: {y_t1d_test_array[i+10]:.2f},{y_t2d_test_array[i+10]:.2f}, {y_hemo_test_array[i+10]:.2f}, {y_park_test_array[i+10]:.2f}, {y_sickel_test_array[i+10]:.2f}')"
   ]
  },
  {
   "cell_type": "code",
   "execution_count": null,
   "metadata": {},
   "outputs": [],
   "source": []
  }
 ],
 "metadata": {
  "kernelspec": {
   "display_name": "Python 3",
   "language": "python",
   "name": "python3"
  },
  "language_info": {
   "codemirror_mode": {
    "name": "ipython",
    "version": 3
   },
   "file_extension": ".py",
   "mimetype": "text/x-python",
   "name": "python",
   "nbconvert_exporter": "python",
   "pygments_lexer": "ipython3",
   "version": "3.12.0"
  }
 },
 "nbformat": 4,
 "nbformat_minor": 2
}
